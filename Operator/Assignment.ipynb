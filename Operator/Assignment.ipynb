{
 "cells": [
  {
   "cell_type": "markdown",
   "metadata": {},
   "source": [
    "Operator Penugasan\n",
    "- a = 2 operator penugasan untuk mengisi nilai\n",
    "- a += 1 operator penugasan menambahkan 1 ke variable a\n",
    "- a -= 1 operator penugasan mengurangkan 1 ke variable a\n",
    "- a *= 3 operator penugasan mengalikan 3 ke variable a\n",
    "- a /= 2 operator penugasan membagikan 2 ke variable a\n"
   ]
  },
  {
   "cell_type": "code",
   "execution_count": 1,
   "metadata": {},
   "outputs": [
    {
     "name": "stdout",
     "output_type": "stream",
     "text": [
      "Nilai awal \t 4\n"
     ]
    }
   ],
   "source": [
    "a = 4\n",
    "print ('Nilai awal \\t',a)"
   ]
  },
  {
   "cell_type": "code",
   "execution_count": 2,
   "metadata": {},
   "outputs": [
    {
     "name": "stdout",
     "output_type": "stream",
     "text": [
      "ditambahkan 1 \n",
      " 5\n"
     ]
    }
   ],
   "source": [
    "a += 1\n",
    "print ('ditambahkan 1 \\n', a)"
   ]
  },
  {
   "cell_type": "code",
   "execution_count": 3,
   "metadata": {},
   "outputs": [
    {
     "name": "stdout",
     "output_type": "stream",
     "text": [
      "5\n"
     ]
    }
   ],
   "source": [
    "#cek nilai variabel a\n",
    "print(a)"
   ]
  },
  {
   "cell_type": "code",
   "execution_count": 4,
   "metadata": {},
   "outputs": [
    {
     "name": "stdout",
     "output_type": "stream",
     "text": [
      "dikurang 2 \n",
      " 3\n"
     ]
    }
   ],
   "source": [
    "a -=2\n",
    "print ('dikurang 2 \\n', a)"
   ]
  },
  {
   "cell_type": "code",
   "execution_count": 5,
   "metadata": {},
   "outputs": [
    {
     "name": "stdout",
     "output_type": "stream",
     "text": [
      "dikali dengan 2 \t 6\n"
     ]
    }
   ],
   "source": [
    "a *= 2\n",
    "print('dikali dengan 2 \\t', a)"
   ]
  },
  {
   "cell_type": "code",
   "execution_count": 6,
   "metadata": {},
   "outputs": [
    {
     "name": "stdout",
     "output_type": "stream",
     "text": [
      "dibagi dengan 3 \t 2.0\n"
     ]
    }
   ],
   "source": [
    "a /= 3\n",
    "print('dibagi dengan 3 \\t',a)"
   ]
  },
  {
   "cell_type": "code",
   "execution_count": null,
   "metadata": {},
   "outputs": [],
   "source": []
  }
 ],
 "metadata": {
  "kernelspec": {
   "display_name": "base",
   "language": "python",
   "name": "python3"
  },
  "language_info": {
   "codemirror_mode": {
    "name": "ipython",
    "version": 3
   },
   "file_extension": ".py",
   "mimetype": "text/x-python",
   "name": "python",
   "nbconvert_exporter": "python",
   "pygments_lexer": "ipython3",
   "version": "3.8.16"
  }
 },
 "nbformat": 4,
 "nbformat_minor": 2
}
