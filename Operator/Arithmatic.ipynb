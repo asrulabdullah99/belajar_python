{
 "cells": [
  {
   "cell_type": "code",
   "execution_count": 1,
   "metadata": {},
   "outputs": [],
   "source": [
    "#Operator untuk Penjumlahan\n",
    "\n",
    "a = int(input('Input nilai a : '))\n",
    "b = int(input('Input nilai b : '))"
   ]
  },
  {
   "cell_type": "code",
   "execution_count": 2,
   "metadata": {},
   "outputs": [
    {
     "data": {
      "text/plain": [
       "20"
      ]
     },
     "execution_count": 2,
     "metadata": {},
     "output_type": "execute_result"
    }
   ],
   "source": [
    "#Tampilkan nilai inputan\n",
    "a"
   ]
  },
  {
   "cell_type": "code",
   "execution_count": 3,
   "metadata": {},
   "outputs": [
    {
     "data": {
      "text/plain": [
       "30"
      ]
     },
     "execution_count": 3,
     "metadata": {},
     "output_type": "execute_result"
    }
   ],
   "source": [
    "b"
   ]
  },
  {
   "cell_type": "code",
   "execution_count": 4,
   "metadata": {},
   "outputs": [
    {
     "name": "stdout",
     "output_type": "stream",
     "text": [
      "Hasil 20 + 30 = 50\n"
     ]
    }
   ],
   "source": [
    "#Operator Penjumlahan\n",
    "c = a + b\n",
    "print('Hasil %d + %d = %d' % (a,b,c))"
   ]
  },
  {
   "cell_type": "code",
   "execution_count": 5,
   "metadata": {},
   "outputs": [
    {
     "name": "stdout",
     "output_type": "stream",
     "text": [
      "Hasil 20 - 30 = -10\n"
     ]
    }
   ],
   "source": [
    "#Operator Pengurangan\n",
    "c = a - b\n",
    "print('Hasil %d - %d = %d' % (a,b,c))"
   ]
  },
  {
   "cell_type": "code",
   "execution_count": 6,
   "metadata": {},
   "outputs": [
    {
     "name": "stdout",
     "output_type": "stream",
     "text": [
      "Hasil 20 * 30 = 600\n"
     ]
    }
   ],
   "source": [
    "#Operator Perkalian\n",
    "c = a*b\n",
    "print('Hasil %d * %d = %d' %(a,b,c))"
   ]
  },
  {
   "cell_type": "code",
   "execution_count": 8,
   "metadata": {},
   "outputs": [
    {
     "name": "stdout",
     "output_type": "stream",
     "text": [
      "Hasil 20 / 30 = 0.666667\n"
     ]
    }
   ],
   "source": [
    "#Operator Pembagian\n",
    "c = a/b\n",
    "print('Hasil %d / %d = %f' %(a,b,c))"
   ]
  },
  {
   "cell_type": "code",
   "execution_count": 9,
   "metadata": {},
   "outputs": [
    {
     "name": "stdout",
     "output_type": "stream",
     "text": [
      "Hasil 20 / 30 = 0.67\n"
     ]
    }
   ],
   "source": [
    "#Koma dua digit\n",
    "c = a/b\n",
    "print('Hasil %d / %d = %.2f' %(a,b,c))"
   ]
  },
  {
   "cell_type": "code",
   "execution_count": 10,
   "metadata": {},
   "outputs": [
    {
     "name": "stdout",
     "output_type": "stream",
     "text": [
      "Hasil 20 % 30 = 20\n"
     ]
    }
   ],
   "source": [
    "#Operator Sisa Bagi\n",
    "c = a % b \n",
    "print('Hasil %d %% %d = %d' %(a,b,c))"
   ]
  },
  {
   "cell_type": "code",
   "execution_count": 11,
   "metadata": {},
   "outputs": [
    {
     "name": "stdout",
     "output_type": "stream",
     "text": [
      "Hasil 20 % 30 = 10\n"
     ]
    }
   ],
   "source": [
    "#Operator Sisa Bagi\n",
    "c = b % a\n",
    "print('Hasil %d %% %d = %d' %(a,b,c))"
   ]
  },
  {
   "cell_type": "code",
   "execution_count": 12,
   "metadata": {},
   "outputs": [
    {
     "name": "stdout",
     "output_type": "stream",
     "text": [
      "Hasil 20 ** 30 = 1073741824000000000000000000000000000000\n"
     ]
    }
   ],
   "source": [
    "#Operator Pangkat\n",
    "c = a ** b \n",
    "print('Hasil %d ** %d = %d' %(a,b,c))"
   ]
  },
  {
   "cell_type": "markdown",
   "metadata": {},
   "source": [
    "##Task\n",
    "- Buat program input dua nilai float (a dan b) menghasilkan c = $a^2 + b^2 - 3ab$\n",
    "- Print hasilnya"
   ]
  }
 ],
 "metadata": {
  "kernelspec": {
   "display_name": "base",
   "language": "python",
   "name": "python3"
  },
  "language_info": {
   "codemirror_mode": {
    "name": "ipython",
    "version": 3
   },
   "file_extension": ".py",
   "mimetype": "text/x-python",
   "name": "python",
   "nbconvert_exporter": "python",
   "pygments_lexer": "ipython3",
   "version": "3.8.16"
  }
 },
 "nbformat": 4,
 "nbformat_minor": 2
}
